{
 "cells": [
  {
   "cell_type": "code",
   "execution_count": null,
   "id": "a1421b3a",
   "metadata": {},
   "outputs": [],
   "source": [
    "import pandas as pd\n",
    "import numpy as np\n",
    "from sklearn.impute import SimpleImputer\n",
    "from sklearn.metrics import confusion_matrix, ConfusionMatrixDisplay\n",
    "from sklearn.svm import SVC\n",
    "from sklearn.model_selection import train_test_split\n",
    "from sklearn.preprocessing import StandardScaler\n",
    "from sklearn.metrics import accuracy_score\n",
    "from sklearn.pipeline import Pipeline\n",
    "from sklearn.model_selection import GridSearchCV\n",
    "from sklearn.linear_model import SGDClassifier\n",
    "from sklearn.ensemble import RandomForestClassifier\n",
    " \n",
    "\n",
    "df = pd.read_csv(\"data/train.csv\")"
   ]
  },
  {
   "cell_type": "code",
   "execution_count": null,
   "id": "2dba48bd",
   "metadata": {},
   "outputs": [],
   "source": [
    "def show_accuracy_confusion(model, X_test, y_test):\n",
    "    predictions = model.predict(X_test)\n",
    "    \n",
    "    print(\"Accuracy: \" + str(accuracy_score(y_test, predictions)))\n",
    "    ConfusionMatrixDisplay(confusion_matrix(y_test, predictions)).plot()    "
   ]
  },
  {
   "cell_type": "code",
   "execution_count": null,
   "id": "75343e67",
   "metadata": {},
   "outputs": [],
   "source": [
    "def fill_values(df):\n",
    "    \n",
    "    #Filling missing age values based on the median of Pclass/Sex groups\n",
    "    df[\"Age\"] = df.groupby([\"Pclass\", \"Sex\"])[\"Age\"].transform(lambda x: x.fillna(x.median()))"
   ]
  },
  {
   "cell_type": "code",
   "execution_count": null,
   "id": "56467b9f",
   "metadata": {},
   "outputs": [],
   "source": [
    "def split_data(df):\n",
    "\n",
    "    X = df.drop([\"PassengerId\", \"Survived\", \"Embarked\"], axis=\"columns\")\n",
    "    y = df[\"Survived\"]\n",
    "    \n",
    "    return [X, y]"
   ]
  },
  {
   "cell_type": "code",
   "execution_count": null,
   "id": "7671e7d8",
   "metadata": {},
   "outputs": [],
   "source": [
    "X = split_data(df)[0]\n",
    "y = split_data(df)[1]\n",
    "\n",
    "fill_values(X)"
   ]
  },
  {
   "cell_type": "code",
   "execution_count": null,
   "id": "ca93c52c",
   "metadata": {},
   "outputs": [],
   "source": [
    "def get_titles_series(X):\n",
    "    titles = X[\"Name\"].str.split(',').str.get(1).str.split('.').str.get(0)\n",
    "\n",
    "    relevant_titles =  ['Mr', 'Mrs', 'Miss', 'Master']\n",
    "    pattern = '|'.join(relevant_titles)\n",
    "\n",
    "    titles = titles.loc[titles.str.contains(pattern)]\n",
    "    \n",
    "    return titles"
   ]
  },
  {
   "cell_type": "code",
   "execution_count": null,
   "id": "bd87928b",
   "metadata": {},
   "outputs": [],
   "source": [
    "def encode_data(X):\n",
    "\n",
    "    X[\"Title\"] = get_titles_series(X)\n",
    "    X_enc = pd.get_dummies(X, columns=[\"Pclass\", \"Sex\", \"Title\"])\n",
    "    X_enc = X_enc.drop([\"Name\", \"Ticket\", \"Cabin\"], axis=\"columns\")\n",
    "    \n",
    "    return X_enc"
   ]
  },
  {
   "cell_type": "code",
   "execution_count": null,
   "id": "90cb1832",
   "metadata": {},
   "outputs": [],
   "source": [
    "def isminor(row):\n",
    "    if (row[\"Age\"] < 18) or (row[\"Title_ Master\"] == 1):\n",
    "        return 1\n",
    "    else:\n",
    "        return 0\n",
    "\n",
    "def attach_isminor(X_enc):\n",
    "\n",
    "    X_enc[\"isminor\"] = X_enc.apply(lambda row: isminor(row), axis=1)\n",
    "    return X_enc"
   ]
  },
  {
   "cell_type": "code",
   "execution_count": null,
   "id": "26ebdd42",
   "metadata": {},
   "outputs": [],
   "source": [
    "def prepare_data(X):\n",
    "    X_enc = encode_data(X)\n",
    "    X_enc = attach_isminor(X_enc)\n",
    "    \n",
    "    return X_enc\n",
    "\n",
    "X_enc = prepare_data(X)"
   ]
  },
  {
   "cell_type": "code",
   "execution_count": null,
   "id": "72fc318b",
   "metadata": {},
   "outputs": [],
   "source": [
    "X_enc.head(10)"
   ]
  },
  {
   "cell_type": "code",
   "execution_count": null,
   "id": "de036ac3",
   "metadata": {},
   "outputs": [],
   "source": [
    "default_svc = Pipeline([\n",
    "    (\"scaler\", StandardScaler()),\n",
    "    (\"svc\", SVC())\n",
    "])\n",
    "\n",
    "X_train, X_test, y_train, y_test = train_test_split(X_enc, y, random_state=38)"
   ]
  },
  {
   "cell_type": "code",
   "execution_count": null,
   "id": "8f3bb920",
   "metadata": {},
   "outputs": [],
   "source": [
    "default_svc.fit(X_train, y_train)\n",
    "predictions = default_svc.predict(X_test)\n",
    "\n",
    "show_accuracy_confusion(default_svc, X_test, y_test)"
   ]
  },
  {
   "cell_type": "code",
   "execution_count": null,
   "id": "c3fa5dc2",
   "metadata": {},
   "outputs": [],
   "source": [
    "forest = RandomForestClassifier(criterion=\"gini\", max_depth=7, n_estimators=200, max_features=None)\n",
    "svc = SVC(kernel=\"poly\", gamma=0.001, C = 2, coef0=1, degree=3)\n",
    "\n",
    "for model in [forest, svc]:\n",
    "    model.fit(X_train, y_train)"
   ]
  },
  {
   "cell_type": "code",
   "execution_count": null,
   "id": "9bdedf3a",
   "metadata": {},
   "outputs": [],
   "source": [
    "show_accuracy_confusion(forest, X_test, y_test)"
   ]
  },
  {
   "cell_type": "code",
   "execution_count": null,
   "id": "d050bb0e",
   "metadata": {},
   "outputs": [],
   "source": [
    "show_accuracy_confusion(svc, X_test, y_test)"
   ]
  },
  {
   "cell_type": "code",
   "execution_count": null,
   "id": "d4144c4e",
   "metadata": {},
   "outputs": [],
   "source": [
    "forest_pipe = Pipeline([\n",
    "    (\"scaler\", StandardScaler()),\n",
    "    (\"forest\", RandomForestClassifier())\n",
    "])\n",
    "\n",
    "forest_grid = {\n",
    "    \"forest__n_estimators\": [200, 300, 320],\n",
    "    \"forest__max_depth\": [4, 5, 6, 7],\n",
    "    \"forest__criterion\": [\"gini\", \"entropy\"],\n",
    "    \"forest__max_features\": [None, \"sqrt\", \"log2\"]\n",
    "}\n",
    "\n",
    "forcv = GridSearchCV(estimator=forest_pipe, param_grid=forest_grid, cv = 10, scoring=\"accuracy\")\n",
    "\n",
    "forcv.fit(X_train, y_train)\n",
    "forcv.best_params_"
   ]
  },
  {
   "cell_type": "code",
   "execution_count": null,
   "id": "200e9518",
   "metadata": {},
   "outputs": [],
   "source": [
    "show_accuracy_confusion(forcv, X_test, y_test)"
   ]
  },
  {
   "cell_type": "code",
   "execution_count": null,
   "id": "d7e8c3e2",
   "metadata": {},
   "outputs": [],
   "source": [
    "sgd_pipe = Pipeline([\n",
    "    (\"scaler\", StandardScaler()),\n",
    "    (\"sgd\", SGDClassifier())\n",
    "])\n",
    "\n",
    "sgd_params = {\n",
    "    \"sgd__loss\": [\"hinge\", \"log_loss\", \"perceptron\", \"modified_huber\"],\n",
    "    \"sgd__penalty\": [\"l2\", \"elasticnet\", \"l1\", None],\n",
    "    \"sgd__learning_rate\": [\"adaptive\", \"optimal\"],\n",
    "    \"sgd__n_jobs\": [-1],\n",
    "    \"sgd__eta0\" :[1, 2.15, 2.25, 2.5],\n",
    "    \"sgd__alpha\": [0.0001, 0.01, 0.1],\n",
    "    \"sgd__l1_ratio\": [0.15]\n",
    "    \n",
    "}\n",
    "\n",
    "sgd_opt = GridSearchCV(estimator=sgd_pipe, cv=10, scoring=\"accuracy\", param_grid=sgd_params)\n",
    "sgd_opt.fit(X_train, y_train)\n",
    "sgd_opt.best_params_"
   ]
  },
  {
   "cell_type": "code",
   "execution_count": null,
   "id": "92dca492",
   "metadata": {},
   "outputs": [],
   "source": [
    "show_accuracy_confusion(sgd_opt, X_test, y_test)"
   ]
  },
  {
   "cell_type": "code",
   "execution_count": null,
   "id": "e1e2f64e",
   "metadata": {},
   "outputs": [],
   "source": [
    "pipe1 = Pipeline([\n",
    "    (\"scale\", StandardScaler()),\n",
    "    (\"sgd1\", SGDClassifier(alpha=0.01, eta0=2.5, l1_ratio=0.15, learning_rate='optimal', loss='log_loss',n_jobs=-1, penalty=None))\n",
    "])\n",
    "\n",
    "pipe2 = Pipeline([\n",
    "    (\"scale\", StandardScaler()),\n",
    "    (\"sgd1\", SGDClassifier(alpha=0.01, eta0=2.25, l1_ratio=0.15, learning_rate='optimal', loss='modified_huber',n_jobs=-1, penalty='l1'))\n",
    "])"
   ]
  },
  {
   "cell_type": "code",
   "execution_count": null,
   "id": "bc8cfa2f",
   "metadata": {},
   "outputs": [],
   "source": [
    "for pipe in [pipe1, pipe2]:\n",
    "    pipe.fit(X_train, y_train)"
   ]
  },
  {
   "cell_type": "code",
   "execution_count": null,
   "id": "f5cec200",
   "metadata": {},
   "outputs": [],
   "source": [
    "show_accuracy_confusion(pipe1, X_test, y_test)"
   ]
  },
  {
   "cell_type": "code",
   "execution_count": null,
   "id": "d6186d2f",
   "metadata": {},
   "outputs": [],
   "source": [
    "show_accuracy_confusion(pipe2, X_test, y_test)"
   ]
  },
  {
   "cell_type": "code",
   "execution_count": null,
   "id": "0ae16f83",
   "metadata": {},
   "outputs": [],
   "source": [
    "to_predict = pd.read_csv(\"data/test.csv\")\n",
    "\n",
    "to_predict.head()"
   ]
  },
  {
   "cell_type": "code",
   "execution_count": null,
   "id": "14e5a9a6",
   "metadata": {},
   "outputs": [],
   "source": [
    "fill_values(to_predict)\n",
    "\n",
    "pclass_grp = to_predict.groupby(\"Pclass\")\n",
    "median_fare_third_class = pclass_grp[\"Fare\"].median()[3]\n",
    "\n",
    "to_predict.loc[pd.isna(to_predict[\"Fare\"])] = to_predict.loc[pd.isna(to_predict[\"Fare\"])].fillna(median_fare_third_class)\n"
   ]
  },
  {
   "cell_type": "code",
   "execution_count": null,
   "id": "458528aa",
   "metadata": {},
   "outputs": [],
   "source": [
    "X_topred = to_predict.drop(['PassengerId', 'Embarked'], axis='columns')\n",
    "X_topred_enc = prepare_data(X_topred)\n",
    "\n",
    "X_topred_enc.head(10)"
   ]
  },
  {
   "cell_type": "code",
   "execution_count": null,
   "id": "a8a803c9",
   "metadata": {},
   "outputs": [],
   "source": [
    "predicted = to_predict.loc[:,['PassengerId']]\n",
    "\n",
    "preds = forcv.predict(X_topred_enc)"
   ]
  },
  {
   "cell_type": "code",
   "execution_count": null,
   "id": "300b6842",
   "metadata": {},
   "outputs": [],
   "source": [
    "predicted[\"Survived\"] = preds"
   ]
  },
  {
   "cell_type": "code",
   "execution_count": null,
   "id": "1debfcae",
   "metadata": {},
   "outputs": [],
   "source": [
    "predicted.to_csv(\"predictions.csv\", index=False)"
   ]
  },
  {
   "cell_type": "code",
   "execution_count": null,
   "id": "be8e9052",
   "metadata": {},
   "outputs": [],
   "source": []
  }
 ],
 "metadata": {
  "kernelspec": {
   "display_name": "Python 3 (ipykernel)",
   "language": "python",
   "name": "python3"
  },
  "language_info": {
   "codemirror_mode": {
    "name": "ipython",
    "version": 3
   },
   "file_extension": ".py",
   "mimetype": "text/x-python",
   "name": "python",
   "nbconvert_exporter": "python",
   "pygments_lexer": "ipython3",
   "version": "3.11.2"
  }
 },
 "nbformat": 4,
 "nbformat_minor": 5
}
