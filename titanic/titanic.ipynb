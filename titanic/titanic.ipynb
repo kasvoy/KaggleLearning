{
 "cells": [
  {
   "cell_type": "code",
   "execution_count": null,
   "id": "a1421b3a",
   "metadata": {},
   "outputs": [],
   "source": [
    "import pandas as pd\n",
    "import matplotlib.pyplot as plt\n",
    "import numpy as np\n",
    "from sklearn.impute import SimpleImputer\n",
    "\n",
    "df = pd.read_csv(\"data/train.csv\")"
   ]
  },
  {
   "cell_type": "markdown",
   "id": "20d4ce85",
   "metadata": {},
   "source": [
    "pclass: A proxy for socio-economic status (SES)\n",
    "1st = Upper\n",
    "2nd = Middle\n",
    "3rd = Lower\n",
    "\n",
    "age: Age is fractional if less than 1. If the age is estimated, is it in the form of xx.5\n",
    "\n",
    "sibsp: The dataset defines family relations in this way...\n",
    "Sibling = brother, sister, stepbrother, stepsister\n",
    "Spouse = husband, wife (mistresses and fiancés were ignored)\n",
    "\n",
    "parch: The dataset defines family relations in this way...\n",
    "Parent = mother, father\n",
    "Child = daughter, son, stepdaughter, stepson\n",
    "Some children travelled only with a nanny, therefore parch=0 for them."
   ]
  },
  {
   "cell_type": "code",
   "execution_count": null,
   "id": "56467b9f",
   "metadata": {},
   "outputs": [],
   "source": [
    "X = df.drop([\"PassengerId\", \"Survived\", \"Name\"], axis=\"columns\")\n",
    "y = df[\"Survived\"]"
   ]
  },
  {
   "cell_type": "code",
   "execution_count": null,
   "id": "7671e7d8",
   "metadata": {},
   "outputs": [],
   "source": [
    "X_enc = pd.get_dummies(X, columns = [\"Pclass\", \"Sex\", \"Embarked\"])\n",
    "\n",
    "has_cabin = [int(pd.isna(cabin)) for cabin in X_enc[\"Cabin\"]]\n",
    "X_enc[\"has cabin\"] = has_cabin\n",
    "\n",
    "X_enc = X_enc.drop([\"Cabin\", \"Ticket\"], axis = \"columns\")"
   ]
  },
  {
   "cell_type": "code",
   "execution_count": null,
   "id": "2e104f6c",
   "metadata": {},
   "outputs": [],
   "source": [
    "imputer = SimpleImputer(missing_values=pd.NA, strategy=\"most_frequent\")\n",
    "X_enc[\"Age\"] = imputer.fit_transform(np.array(X_enc[\"Age\"]).reshape(-1,1))\n",
    "\n",
    "X_enc.head(10)"
   ]
  },
  {
   "cell_type": "code",
   "execution_count": null,
   "id": "de036ac3",
   "metadata": {},
   "outputs": [],
   "source": [
    "from sklearn.svm import SVC\n",
    "from sklearn.model_selection import train_test_split\n",
    "from sklearn.preprocessing import StandardScaler\n",
    "from sklearn.metrics import accuracy_score\n",
    "from sklearn.pipeline import Pipeline\n",
    "\n",
    "pipe = Pipeline([\n",
    "    (\"scaler\", StandardScaler()),\n",
    "    (\"svc\", SVC(kernel=\"rbf\", C=100))\n",
    "])\n",
    "\n",
    "X_train, X_test, y_train, y_test = train_test_split(X_enc, y, random_state=12)"
   ]
  },
  {
   "cell_type": "markdown",
   "id": "f4514de1",
   "metadata": {},
   "source": [
    "from sklearn.model_selection import GridSearchCV\n",
    "\n",
    "parameters = {\n",
    "    \"C\": [100, 200, 300],\n",
    "    \"kernel\": [\"linear\", \"rbf\"],\n",
    "    \"gamma\": ['scale', 1, 0.1, 0.01, 0.001]\n",
    "}\n",
    "\n",
    "optimal = GridSearchCV(estimator = SVC(), param_grid = parameters, cv=10)\n",
    "\n",
    "optimal.fit(X_train_scaled, y_train)\n",
    "\n",
    "print(optimal.best_params_)\n"
   ]
  },
  {
   "cell_type": "code",
   "execution_count": null,
   "id": "8feb93c6",
   "metadata": {},
   "outputs": [],
   "source": [
    "pipe.fit(X_train, y_train)\n",
    "predictions = pipe.predict(X_test)\n",
    "\n",
    "print(accuracy_score(y_test, predictions))"
   ]
  },
  {
   "cell_type": "code",
   "execution_count": null,
   "id": "17ed4cbd",
   "metadata": {},
   "outputs": [],
   "source": []
  }
 ],
 "metadata": {
  "kernelspec": {
   "display_name": "Python 3 (ipykernel)",
   "language": "python",
   "name": "python3"
  },
  "language_info": {
   "codemirror_mode": {
    "name": "ipython",
    "version": 3
   },
   "file_extension": ".py",
   "mimetype": "text/x-python",
   "name": "python",
   "nbconvert_exporter": "python",
   "pygments_lexer": "ipython3",
   "version": "3.10.6"
  }
 },
 "nbformat": 4,
 "nbformat_minor": 5
}
