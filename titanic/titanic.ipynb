{
 "cells": [
  {
   "cell_type": "code",
   "execution_count": 447,
   "id": "a1421b3a",
   "metadata": {},
   "outputs": [],
   "source": [
    "import pandas as pd\n",
    "import numpy as np\n",
    "from sklearn.impute import SimpleImputer\n",
    "from sklearn.metrics import confusion_matrix, ConfusionMatrixDisplay\n",
    "from sklearn.svm import SVC\n",
    "from sklearn.model_selection import train_test_split\n",
    "from sklearn.preprocessing import StandardScaler\n",
    "from sklearn.metrics import accuracy_score\n",
    "from sklearn.pipeline import Pipeline\n",
    "from sklearn.model_selection import GridSearchCV\n",
    "from sklearn.linear_model import SGDClassifier\n",
    "from sklearn.ensemble import RandomForestClassifier\n",
    " \n",
    "\n",
    "df = pd.read_csv(\"data/train.csv\")"
   ]
  },
  {
   "cell_type": "code",
   "execution_count": 448,
   "id": "2dba48bd",
   "metadata": {},
   "outputs": [],
   "source": [
    "def show_accuracy_confusion(model, X_test, y_test):\n",
    "    predictions = model.predict(X_test)\n",
    "    \n",
    "    print(\"Accuracy: \" + str(accuracy_score(y_test, predictions)))\n",
    "    ConfusionMatrixDisplay(confusion_matrix(y_test, predictions)).plot()    "
   ]
  },
  {
   "cell_type": "code",
   "execution_count": 449,
   "id": "75343e67",
   "metadata": {},
   "outputs": [],
   "source": [
    "def fill_values(df):\n",
    "    \n",
    "    #Filling missing age values based on the median of Pclass/Sex groups\n",
    "    df[\"Age\"] = df.groupby([\"Pclass\", \"Sex\"])[\"Age\"].transform(lambda x: x.fillna(x.median()))"
   ]
  },
  {
   "cell_type": "code",
   "execution_count": 450,
   "id": "56467b9f",
   "metadata": {},
   "outputs": [],
   "source": [
    "X = df.drop([\"PassengerId\", \"Survived\", \"Embarked\"], axis=\"columns\")#X[\"Title\"] = X[\"Name\"].str.split(',').str.get(1).str.split('.').str.get(0)\n",
    "y = df[\"Survived\"]"
   ]
  },
  {
   "cell_type": "code",
   "execution_count": 451,
   "id": "7671e7d8",
   "metadata": {},
   "outputs": [],
   "source": [
    "fill_values(X)\n",
    "X_enc = pd.get_dummies(X, columns = [\"Pclass\", \"Sex\"])"
   ]
  },
  {
   "cell_type": "code",
   "execution_count": 452,
   "id": "ca93c52c",
   "metadata": {},
   "outputs": [],
   "source": [
    "titles = X[\"Name\"].str.split(',').str.get(1).str.split('.').str.get(0)\n",
    "\n",
    "relevant_titles =  ['Mr', 'Mrs', 'Miss', 'Master']\n",
    "pattern = '|'.join(relevant_titles)\n",
    "\n",
    "titles = titles.loc[titles.str.contains(pattern)]"
   ]
  },
  {
   "cell_type": "code",
   "execution_count": 453,
   "id": "bd87928b",
   "metadata": {},
   "outputs": [],
   "source": [
    "X_enc[\"Title\"] = titles\n",
    "X_enc = pd.get_dummies(X_enc, columns=[\"Title\"])\n",
    "X_enc = X_enc.drop([\"Name\", \"Ticket\", \"Cabin\"], axis=\"columns\")"
   ]
  },
  {
   "cell_type": "code",
   "execution_count": 454,
   "id": "90cb1832",
   "metadata": {},
   "outputs": [],
   "source": [
    "def isminor(row):\n",
    "    if (row[\"Age\"] < 18) or (row[\"Title_ Master\"] == 1):\n",
    "        return 1\n",
    "    else:\n",
    "        return 0\n",
    "\n",
    "X_enc[\"isminor\"] = X_enc.apply(lambda row: isminor(row), axis=1)"
   ]
  },
  {
   "cell_type": "code",
   "execution_count": 455,
   "id": "26ebdd42",
   "metadata": {},
   "outputs": [
    {
     "data": {
      "text/html": [
       "<div>\n",
       "<style scoped>\n",
       "    .dataframe tbody tr th:only-of-type {\n",
       "        vertical-align: middle;\n",
       "    }\n",
       "\n",
       "    .dataframe tbody tr th {\n",
       "        vertical-align: top;\n",
       "    }\n",
       "\n",
       "    .dataframe thead th {\n",
       "        text-align: right;\n",
       "    }\n",
       "</style>\n",
       "<table border=\"1\" class=\"dataframe\">\n",
       "  <thead>\n",
       "    <tr style=\"text-align: right;\">\n",
       "      <th></th>\n",
       "      <th>Age</th>\n",
       "      <th>SibSp</th>\n",
       "      <th>Parch</th>\n",
       "      <th>Fare</th>\n",
       "      <th>Pclass_1</th>\n",
       "      <th>Pclass_2</th>\n",
       "      <th>Pclass_3</th>\n",
       "      <th>Sex_female</th>\n",
       "      <th>Sex_male</th>\n",
       "      <th>Title_ Master</th>\n",
       "      <th>Title_ Miss</th>\n",
       "      <th>Title_ Mr</th>\n",
       "      <th>Title_ Mrs</th>\n",
       "      <th>isminor</th>\n",
       "    </tr>\n",
       "  </thead>\n",
       "  <tbody>\n",
       "    <tr>\n",
       "      <th>0</th>\n",
       "      <td>22.0</td>\n",
       "      <td>1</td>\n",
       "      <td>0</td>\n",
       "      <td>7.2500</td>\n",
       "      <td>0</td>\n",
       "      <td>0</td>\n",
       "      <td>1</td>\n",
       "      <td>0</td>\n",
       "      <td>1</td>\n",
       "      <td>0</td>\n",
       "      <td>0</td>\n",
       "      <td>1</td>\n",
       "      <td>0</td>\n",
       "      <td>0</td>\n",
       "    </tr>\n",
       "    <tr>\n",
       "      <th>1</th>\n",
       "      <td>38.0</td>\n",
       "      <td>1</td>\n",
       "      <td>0</td>\n",
       "      <td>71.2833</td>\n",
       "      <td>1</td>\n",
       "      <td>0</td>\n",
       "      <td>0</td>\n",
       "      <td>1</td>\n",
       "      <td>0</td>\n",
       "      <td>0</td>\n",
       "      <td>0</td>\n",
       "      <td>0</td>\n",
       "      <td>1</td>\n",
       "      <td>0</td>\n",
       "    </tr>\n",
       "    <tr>\n",
       "      <th>2</th>\n",
       "      <td>26.0</td>\n",
       "      <td>0</td>\n",
       "      <td>0</td>\n",
       "      <td>7.9250</td>\n",
       "      <td>0</td>\n",
       "      <td>0</td>\n",
       "      <td>1</td>\n",
       "      <td>1</td>\n",
       "      <td>0</td>\n",
       "      <td>0</td>\n",
       "      <td>1</td>\n",
       "      <td>0</td>\n",
       "      <td>0</td>\n",
       "      <td>0</td>\n",
       "    </tr>\n",
       "    <tr>\n",
       "      <th>3</th>\n",
       "      <td>35.0</td>\n",
       "      <td>1</td>\n",
       "      <td>0</td>\n",
       "      <td>53.1000</td>\n",
       "      <td>1</td>\n",
       "      <td>0</td>\n",
       "      <td>0</td>\n",
       "      <td>1</td>\n",
       "      <td>0</td>\n",
       "      <td>0</td>\n",
       "      <td>0</td>\n",
       "      <td>0</td>\n",
       "      <td>1</td>\n",
       "      <td>0</td>\n",
       "    </tr>\n",
       "    <tr>\n",
       "      <th>4</th>\n",
       "      <td>35.0</td>\n",
       "      <td>0</td>\n",
       "      <td>0</td>\n",
       "      <td>8.0500</td>\n",
       "      <td>0</td>\n",
       "      <td>0</td>\n",
       "      <td>1</td>\n",
       "      <td>0</td>\n",
       "      <td>1</td>\n",
       "      <td>0</td>\n",
       "      <td>0</td>\n",
       "      <td>1</td>\n",
       "      <td>0</td>\n",
       "      <td>0</td>\n",
       "    </tr>\n",
       "    <tr>\n",
       "      <th>5</th>\n",
       "      <td>25.0</td>\n",
       "      <td>0</td>\n",
       "      <td>0</td>\n",
       "      <td>8.4583</td>\n",
       "      <td>0</td>\n",
       "      <td>0</td>\n",
       "      <td>1</td>\n",
       "      <td>0</td>\n",
       "      <td>1</td>\n",
       "      <td>0</td>\n",
       "      <td>0</td>\n",
       "      <td>1</td>\n",
       "      <td>0</td>\n",
       "      <td>0</td>\n",
       "    </tr>\n",
       "    <tr>\n",
       "      <th>6</th>\n",
       "      <td>54.0</td>\n",
       "      <td>0</td>\n",
       "      <td>0</td>\n",
       "      <td>51.8625</td>\n",
       "      <td>1</td>\n",
       "      <td>0</td>\n",
       "      <td>0</td>\n",
       "      <td>0</td>\n",
       "      <td>1</td>\n",
       "      <td>0</td>\n",
       "      <td>0</td>\n",
       "      <td>1</td>\n",
       "      <td>0</td>\n",
       "      <td>0</td>\n",
       "    </tr>\n",
       "    <tr>\n",
       "      <th>7</th>\n",
       "      <td>2.0</td>\n",
       "      <td>3</td>\n",
       "      <td>1</td>\n",
       "      <td>21.0750</td>\n",
       "      <td>0</td>\n",
       "      <td>0</td>\n",
       "      <td>1</td>\n",
       "      <td>0</td>\n",
       "      <td>1</td>\n",
       "      <td>1</td>\n",
       "      <td>0</td>\n",
       "      <td>0</td>\n",
       "      <td>0</td>\n",
       "      <td>1</td>\n",
       "    </tr>\n",
       "    <tr>\n",
       "      <th>8</th>\n",
       "      <td>27.0</td>\n",
       "      <td>0</td>\n",
       "      <td>2</td>\n",
       "      <td>11.1333</td>\n",
       "      <td>0</td>\n",
       "      <td>0</td>\n",
       "      <td>1</td>\n",
       "      <td>1</td>\n",
       "      <td>0</td>\n",
       "      <td>0</td>\n",
       "      <td>0</td>\n",
       "      <td>0</td>\n",
       "      <td>1</td>\n",
       "      <td>0</td>\n",
       "    </tr>\n",
       "    <tr>\n",
       "      <th>9</th>\n",
       "      <td>14.0</td>\n",
       "      <td>1</td>\n",
       "      <td>0</td>\n",
       "      <td>30.0708</td>\n",
       "      <td>0</td>\n",
       "      <td>1</td>\n",
       "      <td>0</td>\n",
       "      <td>1</td>\n",
       "      <td>0</td>\n",
       "      <td>0</td>\n",
       "      <td>0</td>\n",
       "      <td>0</td>\n",
       "      <td>1</td>\n",
       "      <td>1</td>\n",
       "    </tr>\n",
       "    <tr>\n",
       "      <th>10</th>\n",
       "      <td>4.0</td>\n",
       "      <td>1</td>\n",
       "      <td>1</td>\n",
       "      <td>16.7000</td>\n",
       "      <td>0</td>\n",
       "      <td>0</td>\n",
       "      <td>1</td>\n",
       "      <td>1</td>\n",
       "      <td>0</td>\n",
       "      <td>0</td>\n",
       "      <td>1</td>\n",
       "      <td>0</td>\n",
       "      <td>0</td>\n",
       "      <td>1</td>\n",
       "    </tr>\n",
       "    <tr>\n",
       "      <th>11</th>\n",
       "      <td>58.0</td>\n",
       "      <td>0</td>\n",
       "      <td>0</td>\n",
       "      <td>26.5500</td>\n",
       "      <td>1</td>\n",
       "      <td>0</td>\n",
       "      <td>0</td>\n",
       "      <td>1</td>\n",
       "      <td>0</td>\n",
       "      <td>0</td>\n",
       "      <td>1</td>\n",
       "      <td>0</td>\n",
       "      <td>0</td>\n",
       "      <td>0</td>\n",
       "    </tr>\n",
       "    <tr>\n",
       "      <th>12</th>\n",
       "      <td>20.0</td>\n",
       "      <td>0</td>\n",
       "      <td>0</td>\n",
       "      <td>8.0500</td>\n",
       "      <td>0</td>\n",
       "      <td>0</td>\n",
       "      <td>1</td>\n",
       "      <td>0</td>\n",
       "      <td>1</td>\n",
       "      <td>0</td>\n",
       "      <td>0</td>\n",
       "      <td>1</td>\n",
       "      <td>0</td>\n",
       "      <td>0</td>\n",
       "    </tr>\n",
       "    <tr>\n",
       "      <th>13</th>\n",
       "      <td>39.0</td>\n",
       "      <td>1</td>\n",
       "      <td>5</td>\n",
       "      <td>31.2750</td>\n",
       "      <td>0</td>\n",
       "      <td>0</td>\n",
       "      <td>1</td>\n",
       "      <td>0</td>\n",
       "      <td>1</td>\n",
       "      <td>0</td>\n",
       "      <td>0</td>\n",
       "      <td>1</td>\n",
       "      <td>0</td>\n",
       "      <td>0</td>\n",
       "    </tr>\n",
       "    <tr>\n",
       "      <th>14</th>\n",
       "      <td>14.0</td>\n",
       "      <td>0</td>\n",
       "      <td>0</td>\n",
       "      <td>7.8542</td>\n",
       "      <td>0</td>\n",
       "      <td>0</td>\n",
       "      <td>1</td>\n",
       "      <td>1</td>\n",
       "      <td>0</td>\n",
       "      <td>0</td>\n",
       "      <td>1</td>\n",
       "      <td>0</td>\n",
       "      <td>0</td>\n",
       "      <td>1</td>\n",
       "    </tr>\n",
       "    <tr>\n",
       "      <th>15</th>\n",
       "      <td>55.0</td>\n",
       "      <td>0</td>\n",
       "      <td>0</td>\n",
       "      <td>16.0000</td>\n",
       "      <td>0</td>\n",
       "      <td>1</td>\n",
       "      <td>0</td>\n",
       "      <td>1</td>\n",
       "      <td>0</td>\n",
       "      <td>0</td>\n",
       "      <td>0</td>\n",
       "      <td>0</td>\n",
       "      <td>1</td>\n",
       "      <td>0</td>\n",
       "    </tr>\n",
       "    <tr>\n",
       "      <th>16</th>\n",
       "      <td>2.0</td>\n",
       "      <td>4</td>\n",
       "      <td>1</td>\n",
       "      <td>29.1250</td>\n",
       "      <td>0</td>\n",
       "      <td>0</td>\n",
       "      <td>1</td>\n",
       "      <td>0</td>\n",
       "      <td>1</td>\n",
       "      <td>1</td>\n",
       "      <td>0</td>\n",
       "      <td>0</td>\n",
       "      <td>0</td>\n",
       "      <td>1</td>\n",
       "    </tr>\n",
       "    <tr>\n",
       "      <th>17</th>\n",
       "      <td>30.0</td>\n",
       "      <td>0</td>\n",
       "      <td>0</td>\n",
       "      <td>13.0000</td>\n",
       "      <td>0</td>\n",
       "      <td>1</td>\n",
       "      <td>0</td>\n",
       "      <td>0</td>\n",
       "      <td>1</td>\n",
       "      <td>0</td>\n",
       "      <td>0</td>\n",
       "      <td>1</td>\n",
       "      <td>0</td>\n",
       "      <td>0</td>\n",
       "    </tr>\n",
       "    <tr>\n",
       "      <th>18</th>\n",
       "      <td>31.0</td>\n",
       "      <td>1</td>\n",
       "      <td>0</td>\n",
       "      <td>18.0000</td>\n",
       "      <td>0</td>\n",
       "      <td>0</td>\n",
       "      <td>1</td>\n",
       "      <td>1</td>\n",
       "      <td>0</td>\n",
       "      <td>0</td>\n",
       "      <td>0</td>\n",
       "      <td>0</td>\n",
       "      <td>1</td>\n",
       "      <td>0</td>\n",
       "    </tr>\n",
       "    <tr>\n",
       "      <th>19</th>\n",
       "      <td>21.5</td>\n",
       "      <td>0</td>\n",
       "      <td>0</td>\n",
       "      <td>7.2250</td>\n",
       "      <td>0</td>\n",
       "      <td>0</td>\n",
       "      <td>1</td>\n",
       "      <td>1</td>\n",
       "      <td>0</td>\n",
       "      <td>0</td>\n",
       "      <td>0</td>\n",
       "      <td>0</td>\n",
       "      <td>1</td>\n",
       "      <td>0</td>\n",
       "    </tr>\n",
       "  </tbody>\n",
       "</table>\n",
       "</div>"
      ],
      "text/plain": [
       "     Age  SibSp  Parch     Fare  Pclass_1  Pclass_2  Pclass_3  Sex_female  \\\n",
       "0   22.0      1      0   7.2500         0         0         1           0   \n",
       "1   38.0      1      0  71.2833         1         0         0           1   \n",
       "2   26.0      0      0   7.9250         0         0         1           1   \n",
       "3   35.0      1      0  53.1000         1         0         0           1   \n",
       "4   35.0      0      0   8.0500         0         0         1           0   \n",
       "5   25.0      0      0   8.4583         0         0         1           0   \n",
       "6   54.0      0      0  51.8625         1         0         0           0   \n",
       "7    2.0      3      1  21.0750         0         0         1           0   \n",
       "8   27.0      0      2  11.1333         0         0         1           1   \n",
       "9   14.0      1      0  30.0708         0         1         0           1   \n",
       "10   4.0      1      1  16.7000         0         0         1           1   \n",
       "11  58.0      0      0  26.5500         1         0         0           1   \n",
       "12  20.0      0      0   8.0500         0         0         1           0   \n",
       "13  39.0      1      5  31.2750         0         0         1           0   \n",
       "14  14.0      0      0   7.8542         0         0         1           1   \n",
       "15  55.0      0      0  16.0000         0         1         0           1   \n",
       "16   2.0      4      1  29.1250         0         0         1           0   \n",
       "17  30.0      0      0  13.0000         0         1         0           0   \n",
       "18  31.0      1      0  18.0000         0         0         1           1   \n",
       "19  21.5      0      0   7.2250         0         0         1           1   \n",
       "\n",
       "    Sex_male  Title_ Master  Title_ Miss  Title_ Mr  Title_ Mrs  isminor  \n",
       "0          1              0            0          1           0        0  \n",
       "1          0              0            0          0           1        0  \n",
       "2          0              0            1          0           0        0  \n",
       "3          0              0            0          0           1        0  \n",
       "4          1              0            0          1           0        0  \n",
       "5          1              0            0          1           0        0  \n",
       "6          1              0            0          1           0        0  \n",
       "7          1              1            0          0           0        1  \n",
       "8          0              0            0          0           1        0  \n",
       "9          0              0            0          0           1        1  \n",
       "10         0              0            1          0           0        1  \n",
       "11         0              0            1          0           0        0  \n",
       "12         1              0            0          1           0        0  \n",
       "13         1              0            0          1           0        0  \n",
       "14         0              0            1          0           0        1  \n",
       "15         0              0            0          0           1        0  \n",
       "16         1              1            0          0           0        1  \n",
       "17         1              0            0          1           0        0  \n",
       "18         0              0            0          0           1        0  \n",
       "19         0              0            0          0           1        0  "
      ]
     },
     "execution_count": 455,
     "metadata": {},
     "output_type": "execute_result"
    }
   ],
   "source": [
    "X_enc.head(20)"
   ]
  },
  {
   "cell_type": "code",
   "execution_count": 466,
   "id": "de036ac3",
   "metadata": {},
   "outputs": [],
   "source": [
    "default_svc = Pipeline([\n",
    "    (\"scaler\", StandardScaler()),\n",
    "    (\"svc\", SVC())\n",
    "])\n",
    "\n",
    "X_train, X_test, y_train, y_test = train_test_split(X_enc, y, random_state=10)"
   ]
  },
  {
   "cell_type": "code",
   "execution_count": 467,
   "id": "8f3bb920",
   "metadata": {},
   "outputs": [
    {
     "name": "stdout",
     "output_type": "stream",
     "text": [
      "Accuracy: 0.8565022421524664\n"
     ]
    },
    {
     "data": {
      "image/png": "[encoded data removed]",
      "text/plain": [
       "<Figure size 640x480 with 2 Axes>"
      ]
     },
     "metadata": {},
     "output_type": "display_data"
    }
   ],
   "source": [
    "default_svc.fit(X_train, y_train)\n",
    "predictions = default_svc.predict(X_test)\n",
    "\n",
    "show_accuracy_confusion(default_svc, X_test, y_test)"
   ]
  },
  {
   "cell_type": "code",
   "execution_count": 468,
   "id": "c3fa5dc2",
   "metadata": {},
   "outputs": [],
   "source": [
    "forest = RandomForestClassifier(criterion=\"entropy\", max_depth=5, n_estimators=300)\n",
    "sgd = SGDClassifier(eta0=1, learning_rate=\"adaptive\",n_jobs=-1, penalty=\"l2\", loss=\"log_loss\")\n",
    "svc = SVC(kernel=\"poly\", gamma=0.001, C = 2, coef0=1, degree=3)\n",
    "\n",
    "for model in [forest, sgd, svc]:\n",
    "    model.fit(X_train, y_train)"
   ]
  },
  {
   "cell_type": "code",
   "execution_count": 469,
   "id": "9bdedf3a",
   "metadata": {},
   "outputs": [
    {
     "name": "stdout",
     "output_type": "stream",
     "text": [
      "Accuracy: 0.852017937219731\n"
     ]
    },
    {
     "data": {
      "image/png": "[encoded data removed]",
      "text/plain": [
       "<Figure size 640x480 with 2 Axes>"
      ]
     },
     "metadata": {},
     "output_type": "display_data"
    }
   ],
   "source": [
    "show_accuracy_confusion(forest, X_test, y_test)"
   ]
  },
  {
   "cell_type": "code",
   "execution_count": 470,
   "id": "6a317fd8",
   "metadata": {},
   "outputs": [
    {
     "name": "stdout",
     "output_type": "stream",
     "text": [
      "Accuracy: 0.7937219730941704\n"
     ]
    },
    {
     "data": {
      "image/png": "[encoded data removed]",
      "text/plain": [
       "<Figure size 640x480 with 2 Axes>"
      ]
     },
     "metadata": {},
     "output_type": "display_data"
    }
   ],
   "source": [
    "show_accuracy_confusion(sgd, X_test, y_test)"
   ]
  },
  {
   "cell_type": "code",
   "execution_count": 471,
   "id": "d050bb0e",
   "metadata": {},
   "outputs": [
    {
     "name": "stdout",
     "output_type": "stream",
     "text": [
      "Accuracy: 0.8475336322869955\n"
     ]
    },
    {
     "data": {
      "image/png": "[encoded data removed]",
      "text/plain": [
       "<Figure size 640x480 with 2 Axes>"
      ]
     },
     "metadata": {},
     "output_type": "display_data"
    }
   ],
   "source": [
    "show_accuracy_confusion(svc, X_test, y_test)"
   ]
  },
  {
   "cell_type": "code",
   "execution_count": null,
   "id": "d4144c4e",
   "metadata": {},
   "outputs": [],
   "source": [
    "forest_pipe = Pipeline([\n",
    "    (\"scaler\", StandardScaler()),\n",
    "    (\"forest\", RandomForestClassifier())\n",
    "])\n",
    "\n",
    "forest_grid = {\n",
    "    \"forest__n_estimators\": [200, 300, 350],\n",
    "    \"forest__max_depth\": [3, 5, 6, None],\n",
    "    \"forest__criterion\": [\"gini\", \"entropy\"],\n",
    "}\n",
    "\n",
    "forcv = GridSearchCV(estimator=forest_pipe, param_grid=forest_grid, cv = 10, scoring=\"accuracy\")\n",
    "\n",
    "forcv.fit(X_train, y_train)\n",
    "forcv.best_params_"
   ]
  },
  {
   "cell_type": "code",
   "execution_count": null,
   "id": "200e9518",
   "metadata": {},
   "outputs": [],
   "source": [
    "show_accuracy_confusion(forcv, X_test, y_test)"
   ]
  },
  {
   "cell_type": "code",
   "execution_count": null,
   "id": "d7e8c3e2",
   "metadata": {},
   "outputs": [],
   "source": [
    "sgd_pipe = Pipeline([\n",
    "    (\"scaler\", StandardScaler()),\n",
    "    (\"sgd\", SGDClassifier())\n",
    "])\n",
    "\n",
    "sgd_params = {\n",
    "    \"sgd__loss\": [\"hinge\", \"log_loss\", \"perceptron\", \"modified_huber\"],\n",
    "    \"sgd__penalty\": [\"l2\", \"elasticnet\", \"l1\", None],\n",
    "    \"sgd__learning_rate\": [\"adaptive\", \"optimal\"],\n",
    "    \"sgd__n_jobs\": [-1],\n",
    "    \"sgd__eta0\" :[1, 2.15, 2.25, 2.5],\n",
    "    \"sgd__alpha\": [0.0001, 0.01, 0.1],\n",
    "    \"sgd__l1_ratio\": [0.15]\n",
    "    \n",
    "}\n",
    "\n",
    "sgd_opt = GridSearchCV(estimator=sgd_pipe, cv=10, scoring=\"accuracy\", param_grid=sgd_params)\n",
    "sgd_opt.fit(X_train, y_train)\n",
    "sgd_opt.best_params_"
   ]
  },
  {
   "attachments": {},
   "cell_type": "markdown",
   "id": "bbe220c6",
   "metadata": {},
   "source": [
    "{'sgd__alpha': 0.01,\n",
    " 'sgd__eta0': 2.25,\n",
    " 'sgd__l1_ratio': 0.15,\n",
    " 'sgd__learning_rate': 'optimal',\n",
    " 'sgd__loss': 'modified_huber',\n",
    " 'sgd__n_jobs': -1,\n",
    " 'sgd__penalty': 'l1'}"
   ]
  },
  {
   "cell_type": "code",
   "execution_count": null,
   "id": "92dca492",
   "metadata": {},
   "outputs": [],
   "source": [
    "show_accuracy_confusion(sgd_opt, X_test, y_test)"
   ]
  },
  {
   "cell_type": "code",
   "execution_count": 472,
   "id": "e1e2f64e",
   "metadata": {},
   "outputs": [],
   "source": [
    "pipe1 = Pipeline([\n",
    "    (\"scale\", StandardScaler()),\n",
    "    (\"sgd1\", SGDClassifier(alpha=0.01, eta0=2.5, l1_ratio=0.15, learning_rate='optimal', loss='log_loss',n_jobs=-1, penalty=None))\n",
    "])\n",
    "\n",
    "pipe2 = Pipeline([\n",
    "    (\"scale\", StandardScaler()),\n",
    "    (\"sgd1\", SGDClassifier(alpha=0.01, eta0=2.25, l1_ratio=0.15, learning_rate='optimal', loss='modified_huber',n_jobs=-1, penalty='l1'))\n",
    "])"
   ]
  },
  {
   "cell_type": "code",
   "execution_count": 473,
   "id": "bc8cfa2f",
   "metadata": {},
   "outputs": [],
   "source": [
    "for pipe in [pipe1, pipe2]:\n",
    "    pipe.fit(X_train, y_train)"
   ]
  },
  {
   "cell_type": "code",
   "execution_count": 474,
   "id": "f5cec200",
   "metadata": {},
   "outputs": [
    {
     "name": "stdout",
     "output_type": "stream",
     "text": [
      "Accuracy: 0.8565022421524664\n"
     ]
    },
    {
     "data": {
      "image/png": "[encoded data removed]",
      "text/plain": [
       "<Figure size 640x480 with 2 Axes>"
      ]
     },
     "metadata": {},
     "output_type": "display_data"
    }
   ],
   "source": [
    "show_accuracy_confusion(pipe1, X_test, y_test)"
   ]
  },
  {
   "cell_type": "code",
   "execution_count": 475,
   "id": "d6186d2f",
   "metadata": {},
   "outputs": [
    {
     "name": "stdout",
     "output_type": "stream",
     "text": [
      "Accuracy: 0.8161434977578476\n"
     ]
    },
    {
     "data": {
      "image/png": "[encoded data removed]",
      "text/plain": [
       "<Figure size 640x480 with 2 Axes>"
      ]
     },
     "metadata": {},
     "output_type": "display_data"
    }
   ],
   "source": [
    "show_accuracy_confusion(pipe2, X_test, y_test)"
   ]
  },
  {
   "cell_type": "code",
   "execution_count": null,
   "id": "0ae16f83",
   "metadata": {},
   "outputs": [],
   "source": []
  }
 ],
 "metadata": {
  "kernelspec": {
   "display_name": "Python 3 (ipykernel)",
   "language": "python",
   "name": "python3"
  },
  "language_info": {
   "codemirror_mode": {
    "name": "ipython",
    "version": 3
   },
   "file_extension": ".py",
   "mimetype": "text/x-python",
   "name": "python",
   "nbconvert_exporter": "python",
   "pygments_lexer": "ipython3",
   "version": "3.11.2"
  }
 },
 "nbformat": 4,
 "nbformat_minor": 5
}
