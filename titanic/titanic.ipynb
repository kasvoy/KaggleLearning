{
 "cells": [
  {
   "cell_type": "code",
   "execution_count": null,
   "id": "a1421b3a",
   "metadata": {},
   "outputs": [],
   "source": [
    "import pandas as pd\n",
    "import numpy as np\n",
    "from sklearn.impute import SimpleImputer\n",
    "from sklearn.metrics import confusion_matrix, ConfusionMatrixDisplay\n",
    "from sklearn.svm import SVC\n",
    "from sklearn.model_selection import train_test_split\n",
    "from sklearn.preprocessing import StandardScaler\n",
    "from sklearn.metrics import accuracy_score\n",
    "from sklearn.pipeline import Pipeline\n",
    "from sklearn.model_selection import GridSearchCV\n",
    "from sklearn.linear_model import SGDClassifier\n",
    "from sklearn.ensemble import RandomForestClassifier\n",
    " \n",
    "\n",
    "df = pd.read_csv(\"data/train.csv\")"
   ]
  },
  {
   "cell_type": "code",
   "execution_count": null,
   "id": "159d1f32",
   "metadata": {},
   "outputs": [
    {
     "data": {
      "text/html": [
       "<div>\n",
       "<style scoped>\n",
       "    .dataframe tbody tr th:only-of-type {\n",
       "        vertical-align: middle;\n",
       "    }\n",
       "\n",
       "    .dataframe tbody tr th {\n",
       "        vertical-align: top;\n",
       "    }\n",
       "\n",
       "    .dataframe thead th {\n",
       "        text-align: right;\n",
       "    }\n",
       "</style>\n",
       "<table border=\"1\" class=\"dataframe\">\n",
       "  <thead>\n",
       "    <tr style=\"text-align: right;\">\n",
       "      <th></th>\n",
       "      <th>Survived</th>\n",
       "      <th>Pclass</th>\n",
       "      <th>Name</th>\n",
       "      <th>Sex</th>\n",
       "      <th>Age</th>\n",
       "      <th>SibSp</th>\n",
       "      <th>Parch</th>\n",
       "      <th>Ticket</th>\n",
       "      <th>Fare</th>\n",
       "      <th>Cabin</th>\n",
       "      <th>Embarked</th>\n",
       "    </tr>\n",
       "  </thead>\n",
       "  <tbody>\n",
       "    <tr>\n",
       "      <th>85</th>\n",
       "      <td>1</td>\n",
       "      <td>3</td>\n",
       "      <td>Backstrom, Mrs. Karl Alfred (Maria Mathilda Gu...</td>\n",
       "      <td>female</td>\n",
       "      <td>33.0</td>\n",
       "      <td>3</td>\n",
       "      <td>0</td>\n",
       "      <td>3101278</td>\n",
       "      <td>15.85</td>\n",
       "      <td>NaN</td>\n",
       "      <td>S</td>\n",
       "    </tr>\n",
       "    <tr>\n",
       "      <th>206</th>\n",
       "      <td>0</td>\n",
       "      <td>3</td>\n",
       "      <td>Backstrom, Mr. Karl Alfred</td>\n",
       "      <td>male</td>\n",
       "      <td>32.0</td>\n",
       "      <td>1</td>\n",
       "      <td>0</td>\n",
       "      <td>3101278</td>\n",
       "      <td>15.85</td>\n",
       "      <td>NaN</td>\n",
       "      <td>S</td>\n",
       "    </tr>\n",
       "  </tbody>\n",
       "</table>\n",
       "</div>"
      ],
      "text/plain": [
       "     Survived  Pclass                                               Name  \\\n",
       "85          1       3  Backstrom, Mrs. Karl Alfred (Maria Mathilda Gu...   \n",
       "206         0       3                         Backstrom, Mr. Karl Alfred   \n",
       "\n",
       "        Sex   Age  SibSp  Parch   Ticket   Fare Cabin Embarked  \n",
       "85   female  33.0      3      0  3101278  15.85   NaN        S  \n",
       "206    male  32.0      1      0  3101278  15.85   NaN        S  "
      ]
     },
     "execution_count": 2,
     "metadata": {},
     "output_type": "execute_result"
    }
   ],
   "source": [
    "dftest= df.drop([\"PassengerId\"], axis=\"columns\")\n",
    "dftest.head()\n",
    "\n",
    "#dftest[\"Ticket\"].value_counts().head(20)\n",
    "\n"
   ]
  },
  {
   "cell_type": "code",
   "execution_count": 4,
   "id": "919daf5a",
   "metadata": {},
   "outputs": [
    {
     "data": {
      "text/html": [
       "<div>\n",
       "<style scoped>\n",
       "    .dataframe tbody tr th:only-of-type {\n",
       "        vertical-align: middle;\n",
       "    }\n",
       "\n",
       "    .dataframe tbody tr th {\n",
       "        vertical-align: top;\n",
       "    }\n",
       "\n",
       "    .dataframe thead th {\n",
       "        text-align: right;\n",
       "    }\n",
       "</style>\n",
       "<table border=\"1\" class=\"dataframe\">\n",
       "  <thead>\n",
       "    <tr style=\"text-align: right;\">\n",
       "      <th></th>\n",
       "      <th>Survived</th>\n",
       "      <th>Pclass</th>\n",
       "      <th>Name</th>\n",
       "      <th>Sex</th>\n",
       "      <th>Age</th>\n",
       "      <th>SibSp</th>\n",
       "      <th>Parch</th>\n",
       "      <th>Ticket</th>\n",
       "      <th>Fare</th>\n",
       "      <th>Cabin</th>\n",
       "      <th>Embarked</th>\n",
       "    </tr>\n",
       "  </thead>\n",
       "  <tbody>\n",
       "    <tr>\n",
       "      <th>159</th>\n",
       "      <td>0</td>\n",
       "      <td>3</td>\n",
       "      <td>Sage, Master. Thomas Henry</td>\n",
       "      <td>male</td>\n",
       "      <td>NaN</td>\n",
       "      <td>8</td>\n",
       "      <td>2</td>\n",
       "      <td>CA. 2343</td>\n",
       "      <td>69.5500</td>\n",
       "      <td>NaN</td>\n",
       "      <td>S</td>\n",
       "    </tr>\n",
       "    <tr>\n",
       "      <th>176</th>\n",
       "      <td>0</td>\n",
       "      <td>3</td>\n",
       "      <td>Lefebre, Master. Henry Forbes</td>\n",
       "      <td>male</td>\n",
       "      <td>NaN</td>\n",
       "      <td>3</td>\n",
       "      <td>1</td>\n",
       "      <td>4133</td>\n",
       "      <td>25.4667</td>\n",
       "      <td>NaN</td>\n",
       "      <td>S</td>\n",
       "    </tr>\n",
       "    <tr>\n",
       "      <th>180</th>\n",
       "      <td>0</td>\n",
       "      <td>3</td>\n",
       "      <td>Sage, Miss. Constance Gladys</td>\n",
       "      <td>female</td>\n",
       "      <td>NaN</td>\n",
       "      <td>8</td>\n",
       "      <td>2</td>\n",
       "      <td>CA. 2343</td>\n",
       "      <td>69.5500</td>\n",
       "      <td>NaN</td>\n",
       "      <td>S</td>\n",
       "    </tr>\n",
       "    <tr>\n",
       "      <th>201</th>\n",
       "      <td>0</td>\n",
       "      <td>3</td>\n",
       "      <td>Sage, Mr. Frederick</td>\n",
       "      <td>male</td>\n",
       "      <td>NaN</td>\n",
       "      <td>8</td>\n",
       "      <td>2</td>\n",
       "      <td>CA. 2343</td>\n",
       "      <td>69.5500</td>\n",
       "      <td>NaN</td>\n",
       "      <td>S</td>\n",
       "    </tr>\n",
       "    <tr>\n",
       "      <th>229</th>\n",
       "      <td>0</td>\n",
       "      <td>3</td>\n",
       "      <td>Lefebre, Miss. Mathilde</td>\n",
       "      <td>female</td>\n",
       "      <td>NaN</td>\n",
       "      <td>3</td>\n",
       "      <td>1</td>\n",
       "      <td>4133</td>\n",
       "      <td>25.4667</td>\n",
       "      <td>NaN</td>\n",
       "      <td>S</td>\n",
       "    </tr>\n",
       "  </tbody>\n",
       "</table>\n",
       "</div>"
      ],
      "text/plain": [
       "     Survived  Pclass                           Name     Sex  Age  SibSp  \\\n",
       "159         0       3     Sage, Master. Thomas Henry    male  NaN      8   \n",
       "176         0       3  Lefebre, Master. Henry Forbes    male  NaN      3   \n",
       "180         0       3   Sage, Miss. Constance Gladys  female  NaN      8   \n",
       "201         0       3            Sage, Mr. Frederick    male  NaN      8   \n",
       "229         0       3        Lefebre, Miss. Mathilde  female  NaN      3   \n",
       "\n",
       "     Parch    Ticket     Fare Cabin Embarked  \n",
       "159      2  CA. 2343  69.5500   NaN        S  \n",
       "176      1      4133  25.4667   NaN        S  \n",
       "180      2  CA. 2343  69.5500   NaN        S  \n",
       "201      2  CA. 2343  69.5500   NaN        S  \n",
       "229      1      4133  25.4667   NaN        S  "
      ]
     },
     "execution_count": 4,
     "metadata": {},
     "output_type": "execute_result"
    }
   ],
   "source": [
    "imp = SimpleImputer(missing_values=pd.NA, strategy=\"constant\", fill_value=10)\n",
    "#imp.fit_transformdftest.loc[(dftest[\"SibSp\"] > 2) & pd.isna(dftest[\"Age\"])])\n",
    "\n",
    "prob = dftest.loc[(dftest[\"SibSp\"] > 2) & pd.isna(dftest[\"Age\"])]\n",
    "prob.head()"
   ]
  },
  {
   "cell_type": "code",
   "execution_count": null,
   "id": "2dba48bd",
   "metadata": {},
   "outputs": [],
   "source": [
    "def show_accuracy_confusion(model, X_test, y_test):\n",
    "    predictions = model.predict(X_test)\n",
    "    \n",
    "    print(\"Accuracy: \" + str(accuracy_score(y_test, predictions)))\n",
    "    ConfusionMatrixDisplay(confusion_matrix(y_test, predictions)).plot()    "
   ]
  },
  {
   "cell_type": "code",
   "execution_count": null,
   "id": "75343e67",
   "metadata": {},
   "outputs": [],
   "source": [
    "def fill_values(df):\n",
    "    \n",
    "    dftest.loc[(dftest[\"SibSp\"] > 2) & pd.isna(dftest[\"Age\"])]\n",
    "\n",
    "    \n",
    "    \n",
    "    imputer = SimpleImputer(missing_values=pd.NA, strategy=\"median\")\n",
    "    "
   ]
  },
  {
   "cell_type": "code",
   "execution_count": null,
   "id": "56467b9f",
   "metadata": {},
   "outputs": [],
   "source": [
    "X = df.drop([\"PassengerId\", \"Survived\", \"Name\"], axis=\"columns\")\n",
    "y = df[\"Survived\"]"
   ]
  },
  {
   "cell_type": "code",
   "execution_count": null,
   "id": "b1876635",
   "metadata": {},
   "outputs": [],
   "source": []
  },
  {
   "cell_type": "code",
   "execution_count": null,
   "id": "7671e7d8",
   "metadata": {},
   "outputs": [],
   "source": [
    "X_enc = pd.get_dummies(X, columns = [\"Pclass\", \"Sex\", \"Embarked\"])\n",
    "\n",
    "has_cabin = [int(pd.isna(cabin)) for cabin in X_enc[\"Cabin\"]]\n",
    "X_enc[\"has cabin\"] = has_cabin\n",
    "\n",
    "\n",
    "#X_enc[\"deck\"] = X_enc[\"Cabin\"].str.get(0)\n",
    "#X_enc = pd.get_dummies(X_enc, columns=[\"deck\"])\n",
    "\n",
    "\n",
    "#on_c_deck = [int(deck == 'F') for deck in X_enc[\"deck\"]]\n",
    "#X_enc[\"on F\"] = on_c_deck\n",
    "\n",
    "X_enc = X_enc.drop([\"Cabin\", \"Ticket\"], axis = \"columns\")\n",
    "#X_enc.head()\n"
   ]
  },
  {
   "cell_type": "code",
   "execution_count": null,
   "id": "2e104f6c",
   "metadata": {},
   "outputs": [],
   "source": [
    "X_enc[\"Age\"] = imputer.fit_transform(np.array(X_enc[\"Age\"]).reshape(-1,1))"
   ]
  },
  {
   "cell_type": "code",
   "execution_count": null,
   "id": "de036ac3",
   "metadata": {},
   "outputs": [],
   "source": [
    "pipe = Pipeline([\n",
    "    (\"scaler\", StandardScaler()),\n",
    "    (\"svc\", SVC())\n",
    "])\n",
    "\n",
    "X_train, X_test, y_train, y_test = train_test_split(X_enc, y, random_state=22, test_size=0.3)"
   ]
  },
  {
   "cell_type": "code",
   "execution_count": null,
   "id": "8f3bb920",
   "metadata": {},
   "outputs": [],
   "source": [
    "pipe.fit(X_train, y_train)\n",
    "predictions = pipe.predict(X_test)\n",
    "\n",
    "show_accuracy_confusion(pipe, X_test, y_test)"
   ]
  },
  {
   "cell_type": "code",
   "execution_count": null,
   "id": "c3fa5dc2",
   "metadata": {},
   "outputs": [],
   "source": [
    "forest = RandomForestClassifier(criterion=\"entropy\", max_depth=5, n_estimators=300)\n",
    "sgd = SGDClassifier(eta0=1, learning_rate=\"adaptive\",n_jobs=-1, penalty=\"l2\", loss=\"log_loss\")\n",
    "svc = SVC(kernel=\"rbf\", gamma=0.01, C = 3)\n",
    "\n",
    "for model in [forest, sgd, svc]:\n",
    "    model.fit(X_train, y_train)"
   ]
  },
  {
   "cell_type": "code",
   "execution_count": null,
   "id": "9bdedf3a",
   "metadata": {},
   "outputs": [],
   "source": [
    "show_accuracy_confusion(forest, X_test, y_test)"
   ]
  },
  {
   "cell_type": "code",
   "execution_count": null,
   "id": "6a317fd8",
   "metadata": {},
   "outputs": [],
   "source": [
    "show_accuracy_confusion(sgd, X_test, y_test)"
   ]
  },
  {
   "cell_type": "code",
   "execution_count": null,
   "id": "d050bb0e",
   "metadata": {},
   "outputs": [],
   "source": [
    "show_accuracy_confusion(svc, X_test, y_test)"
   ]
  },
  {
   "cell_type": "code",
   "execution_count": null,
   "id": "d4144c4e",
   "metadata": {},
   "outputs": [],
   "source": [
    "forest_pipe = Pipeline([\n",
    "    (\"scaler\", StandardScaler()),\n",
    "    (\"forest\", RandomForestClassifier())\n",
    "])\n",
    "\n",
    "forest_grid = {\n",
    "    \"forest__n_estimators\": [300, 350, 400],\n",
    "    \"forest__max_depth\": [3, 5, 6, None],\n",
    "    \"forest__criterion\": [\"gini\", \"entropy\"],\n",
    "}\n",
    "\n",
    "forcv = GridSearchCV(estimator=forest_pipe, param_grid=forest_grid, cv = 10, scoring=\"accuracy\")\n",
    "\n",
    "forcv.fit(X_train, y_train)\n",
    "forcv.best_params_"
   ]
  },
  {
   "cell_type": "code",
   "execution_count": null,
   "id": "200e9518",
   "metadata": {},
   "outputs": [],
   "source": [
    "show_accuracy_confusion(forcv, X_test, y_test)"
   ]
  },
  {
   "cell_type": "code",
   "execution_count": null,
   "id": "d7e8c3e2",
   "metadata": {},
   "outputs": [],
   "source": [
    "sgd_pipe = Pipeline([\n",
    "    (\"scaler\", StandardScaler()),\n",
    "    (\"sgd\", SGDClassifier())\n",
    "])\n",
    "\n",
    "sgd_params = {\n",
    "    \"sgd__loss\": [\"hinge\", \"log_loss\", \"perceptron\", \"modified_huber\"],\n",
    "    \"sgd__penalty\": [\"l2\", \"elasticnet\"],\n",
    "    \"sgd__learning_rate\": [\"optimal\", \"adaptive\"],\n",
    "    \"sgd__n_jobs\": [-1],\n",
    "    \"sgd__eta0\" :[1]\n",
    "    \n",
    "}\n",
    "\n",
    "sgd_opt = GridSearchCV(estimator=sgd_pipe, cv=10, scoring=\"accuracy\", param_grid=sgd_params)\n",
    "sgd_opt.fit(X_train, y_train)\n",
    "sgd_opt.best_params_"
   ]
  },
  {
   "cell_type": "code",
   "execution_count": null,
   "id": "92dca492",
   "metadata": {},
   "outputs": [],
   "source": [
    "show_accuracy_confusion(sgd_opt, X_test, y_test)"
   ]
  }
 ],
 "metadata": {
  "kernelspec": {
   "display_name": "Python 3 (ipykernel)",
   "language": "python",
   "name": "python3"
  },
  "language_info": {
   "codemirror_mode": {
    "name": "ipython",
    "version": 3
   },
   "file_extension": ".py",
   "mimetype": "text/x-python",
   "name": "python",
   "nbconvert_exporter": "python",
   "pygments_lexer": "ipython3",
   "version": "3.11.2"
  }
 },
 "nbformat": 4,
 "nbformat_minor": 5
}
